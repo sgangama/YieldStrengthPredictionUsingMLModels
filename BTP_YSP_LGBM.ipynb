{
  "nbformat": 4,
  "nbformat_minor": 0,
  "metadata": {
    "colab": {
      "name": "BTP_YSP_LGBM.ipynb",
      "provenance": []
    },
    "kernelspec": {
      "name": "python3",
      "display_name": "Python 3"
    },
    "language_info": {
      "name": "python"
    }
  },
  "cells": [
    {
      "cell_type": "code",
      "execution_count": null,
      "metadata": {
        "id": "lc8Lbhpvt56m"
      },
      "outputs": [],
      "source": [
        "import pandas as pd\n",
        "import seaborn as sns\n",
        "import numpy as np\n",
        "import os\n",
        "import matplotlib.pyplot as plt"
      ]
    },
    {
      "cell_type": "code",
      "source": [
        "train=pd.read_csv(\"/content/MatNavi Mechanical properties of low-alloy steels (1).csv\")"
      ],
      "metadata": {
        "id": "E6nEdtCQuFgI"
      },
      "execution_count": null,
      "outputs": []
    },
    {
      "cell_type": "code",
      "source": [
        "train.head"
      ],
      "metadata": {
        "colab": {
          "base_uri": "https://localhost:8080/"
        },
        "id": "vydltg9muLll",
        "outputId": "130a7d7a-86c2-479b-a751-22c02e0fdb51"
      },
      "execution_count": null,
      "outputs": [
        {
          "output_type": "execute_result",
          "data": {
            "text/plain": [
              "<bound method NDFrame.head of     Alloy code     C    Si    Mn      P      S     Ni    Cr     Mo    Cu  \\\n",
              "0          MBB  0.12  0.36  0.52  0.009  0.003  0.089  0.97  0.610  0.04   \n",
              "1          MBB  0.12  0.36  0.52  0.009  0.003  0.089  0.97  0.610  0.04   \n",
              "2          MBB  0.12  0.36  0.52  0.009  0.003  0.089  0.97  0.610  0.04   \n",
              "3          MBB  0.12  0.36  0.52  0.009  0.003  0.089  0.97  0.610  0.04   \n",
              "4          MBB  0.12  0.36  0.52  0.009  0.003  0.089  0.97  0.610  0.04   \n",
              "..         ...   ...   ...   ...    ...    ...    ...   ...    ...   ...   \n",
              "910        CCB  0.22  0.22  1.24  0.021  0.008  0.030  0.05  0.017  0.01   \n",
              "911        CCB  0.22  0.22  1.24  0.021  0.008  0.030  0.05  0.017  0.01   \n",
              "912        CCB  0.22  0.22  1.24  0.021  0.008  0.030  0.05  0.017  0.01   \n",
              "913        CCB  0.22  0.22  1.24  0.021  0.008  0.030  0.05  0.017  0.01   \n",
              "914        CCB  0.22  0.22  1.24  0.021  0.008  0.030  0.05  0.017  0.01   \n",
              "\n",
              "         V     Al       N  Ceq  Nb + Ta   Temperature (°C)  yield_strength  \n",
              "0    0.000  0.003  0.0066  0.0   0.0000                 27             342  \n",
              "1    0.000  0.003  0.0066  0.0   0.0000                100             338  \n",
              "2    0.000  0.003  0.0066  0.0   0.0000                200             337  \n",
              "3    0.000  0.003  0.0066  0.0   0.0000                300             346  \n",
              "4    0.000  0.003  0.0066  0.0   0.0000                400             316  \n",
              "..     ...    ...     ...  ...      ...                ...             ...  \n",
              "910  0.005  0.005  0.0116  0.0   0.0017                350             268  \n",
              "911  0.005  0.005  0.0116  0.0   0.0017                400             244  \n",
              "912  0.005  0.005  0.0116  0.0   0.0017                450             224  \n",
              "913  0.005  0.005  0.0116  0.0   0.0017                500             209  \n",
              "914  0.005  0.005  0.0116  0.0   0.0017                550             200  \n",
              "\n",
              "[915 rows x 17 columns]>"
            ]
          },
          "metadata": {},
          "execution_count": 172
        }
      ]
    },
    {
      "cell_type": "code",
      "source": [
        "y_train = y = train['yield_strength']\n",
        "train.drop(\"Alloy code\", axis = 1, inplace = True)"
      ],
      "metadata": {
        "id": "_fctTYORuURP"
      },
      "execution_count": null,
      "outputs": []
    },
    {
      "cell_type": "code",
      "source": [
        "train.select_dtypes(include=['int64','float64'])"
      ],
      "metadata": {
        "colab": {
          "base_uri": "https://localhost:8080/",
          "height": 423
        },
        "id": "mBDMRfo0uxFO",
        "outputId": "060101bc-e776-4e46-9355-1006fb1b13fc"
      },
      "execution_count": null,
      "outputs": [
        {
          "output_type": "execute_result",
          "data": {
            "text/html": [
              "\n",
              "  <div id=\"df-13eace1c-9c60-46a7-b83f-2068921d4923\">\n",
              "    <div class=\"colab-df-container\">\n",
              "      <div>\n",
              "<style scoped>\n",
              "    .dataframe tbody tr th:only-of-type {\n",
              "        vertical-align: middle;\n",
              "    }\n",
              "\n",
              "    .dataframe tbody tr th {\n",
              "        vertical-align: top;\n",
              "    }\n",
              "\n",
              "    .dataframe thead th {\n",
              "        text-align: right;\n",
              "    }\n",
              "</style>\n",
              "<table border=\"1\" class=\"dataframe\">\n",
              "  <thead>\n",
              "    <tr style=\"text-align: right;\">\n",
              "      <th></th>\n",
              "      <th>C</th>\n",
              "      <th>Si</th>\n",
              "      <th>Mn</th>\n",
              "      <th>P</th>\n",
              "      <th>S</th>\n",
              "      <th>Ni</th>\n",
              "      <th>Cr</th>\n",
              "      <th>Mo</th>\n",
              "      <th>Cu</th>\n",
              "      <th>V</th>\n",
              "      <th>Al</th>\n",
              "      <th>N</th>\n",
              "      <th>Ceq</th>\n",
              "      <th>Nb + Ta</th>\n",
              "      <th>Temperature (°C)</th>\n",
              "      <th>yield_strength</th>\n",
              "    </tr>\n",
              "  </thead>\n",
              "  <tbody>\n",
              "    <tr>\n",
              "      <th>0</th>\n",
              "      <td>0.12</td>\n",
              "      <td>0.36</td>\n",
              "      <td>0.52</td>\n",
              "      <td>0.009</td>\n",
              "      <td>0.003</td>\n",
              "      <td>0.089</td>\n",
              "      <td>0.97</td>\n",
              "      <td>0.610</td>\n",
              "      <td>0.04</td>\n",
              "      <td>0.000</td>\n",
              "      <td>0.003</td>\n",
              "      <td>0.0066</td>\n",
              "      <td>0.0</td>\n",
              "      <td>0.0000</td>\n",
              "      <td>27</td>\n",
              "      <td>342</td>\n",
              "    </tr>\n",
              "    <tr>\n",
              "      <th>1</th>\n",
              "      <td>0.12</td>\n",
              "      <td>0.36</td>\n",
              "      <td>0.52</td>\n",
              "      <td>0.009</td>\n",
              "      <td>0.003</td>\n",
              "      <td>0.089</td>\n",
              "      <td>0.97</td>\n",
              "      <td>0.610</td>\n",
              "      <td>0.04</td>\n",
              "      <td>0.000</td>\n",
              "      <td>0.003</td>\n",
              "      <td>0.0066</td>\n",
              "      <td>0.0</td>\n",
              "      <td>0.0000</td>\n",
              "      <td>100</td>\n",
              "      <td>338</td>\n",
              "    </tr>\n",
              "    <tr>\n",
              "      <th>2</th>\n",
              "      <td>0.12</td>\n",
              "      <td>0.36</td>\n",
              "      <td>0.52</td>\n",
              "      <td>0.009</td>\n",
              "      <td>0.003</td>\n",
              "      <td>0.089</td>\n",
              "      <td>0.97</td>\n",
              "      <td>0.610</td>\n",
              "      <td>0.04</td>\n",
              "      <td>0.000</td>\n",
              "      <td>0.003</td>\n",
              "      <td>0.0066</td>\n",
              "      <td>0.0</td>\n",
              "      <td>0.0000</td>\n",
              "      <td>200</td>\n",
              "      <td>337</td>\n",
              "    </tr>\n",
              "    <tr>\n",
              "      <th>3</th>\n",
              "      <td>0.12</td>\n",
              "      <td>0.36</td>\n",
              "      <td>0.52</td>\n",
              "      <td>0.009</td>\n",
              "      <td>0.003</td>\n",
              "      <td>0.089</td>\n",
              "      <td>0.97</td>\n",
              "      <td>0.610</td>\n",
              "      <td>0.04</td>\n",
              "      <td>0.000</td>\n",
              "      <td>0.003</td>\n",
              "      <td>0.0066</td>\n",
              "      <td>0.0</td>\n",
              "      <td>0.0000</td>\n",
              "      <td>300</td>\n",
              "      <td>346</td>\n",
              "    </tr>\n",
              "    <tr>\n",
              "      <th>4</th>\n",
              "      <td>0.12</td>\n",
              "      <td>0.36</td>\n",
              "      <td>0.52</td>\n",
              "      <td>0.009</td>\n",
              "      <td>0.003</td>\n",
              "      <td>0.089</td>\n",
              "      <td>0.97</td>\n",
              "      <td>0.610</td>\n",
              "      <td>0.04</td>\n",
              "      <td>0.000</td>\n",
              "      <td>0.003</td>\n",
              "      <td>0.0066</td>\n",
              "      <td>0.0</td>\n",
              "      <td>0.0000</td>\n",
              "      <td>400</td>\n",
              "      <td>316</td>\n",
              "    </tr>\n",
              "    <tr>\n",
              "      <th>...</th>\n",
              "      <td>...</td>\n",
              "      <td>...</td>\n",
              "      <td>...</td>\n",
              "      <td>...</td>\n",
              "      <td>...</td>\n",
              "      <td>...</td>\n",
              "      <td>...</td>\n",
              "      <td>...</td>\n",
              "      <td>...</td>\n",
              "      <td>...</td>\n",
              "      <td>...</td>\n",
              "      <td>...</td>\n",
              "      <td>...</td>\n",
              "      <td>...</td>\n",
              "      <td>...</td>\n",
              "      <td>...</td>\n",
              "    </tr>\n",
              "    <tr>\n",
              "      <th>910</th>\n",
              "      <td>0.22</td>\n",
              "      <td>0.22</td>\n",
              "      <td>1.24</td>\n",
              "      <td>0.021</td>\n",
              "      <td>0.008</td>\n",
              "      <td>0.030</td>\n",
              "      <td>0.05</td>\n",
              "      <td>0.017</td>\n",
              "      <td>0.01</td>\n",
              "      <td>0.005</td>\n",
              "      <td>0.005</td>\n",
              "      <td>0.0116</td>\n",
              "      <td>0.0</td>\n",
              "      <td>0.0017</td>\n",
              "      <td>350</td>\n",
              "      <td>268</td>\n",
              "    </tr>\n",
              "    <tr>\n",
              "      <th>911</th>\n",
              "      <td>0.22</td>\n",
              "      <td>0.22</td>\n",
              "      <td>1.24</td>\n",
              "      <td>0.021</td>\n",
              "      <td>0.008</td>\n",
              "      <td>0.030</td>\n",
              "      <td>0.05</td>\n",
              "      <td>0.017</td>\n",
              "      <td>0.01</td>\n",
              "      <td>0.005</td>\n",
              "      <td>0.005</td>\n",
              "      <td>0.0116</td>\n",
              "      <td>0.0</td>\n",
              "      <td>0.0017</td>\n",
              "      <td>400</td>\n",
              "      <td>244</td>\n",
              "    </tr>\n",
              "    <tr>\n",
              "      <th>912</th>\n",
              "      <td>0.22</td>\n",
              "      <td>0.22</td>\n",
              "      <td>1.24</td>\n",
              "      <td>0.021</td>\n",
              "      <td>0.008</td>\n",
              "      <td>0.030</td>\n",
              "      <td>0.05</td>\n",
              "      <td>0.017</td>\n",
              "      <td>0.01</td>\n",
              "      <td>0.005</td>\n",
              "      <td>0.005</td>\n",
              "      <td>0.0116</td>\n",
              "      <td>0.0</td>\n",
              "      <td>0.0017</td>\n",
              "      <td>450</td>\n",
              "      <td>224</td>\n",
              "    </tr>\n",
              "    <tr>\n",
              "      <th>913</th>\n",
              "      <td>0.22</td>\n",
              "      <td>0.22</td>\n",
              "      <td>1.24</td>\n",
              "      <td>0.021</td>\n",
              "      <td>0.008</td>\n",
              "      <td>0.030</td>\n",
              "      <td>0.05</td>\n",
              "      <td>0.017</td>\n",
              "      <td>0.01</td>\n",
              "      <td>0.005</td>\n",
              "      <td>0.005</td>\n",
              "      <td>0.0116</td>\n",
              "      <td>0.0</td>\n",
              "      <td>0.0017</td>\n",
              "      <td>500</td>\n",
              "      <td>209</td>\n",
              "    </tr>\n",
              "    <tr>\n",
              "      <th>914</th>\n",
              "      <td>0.22</td>\n",
              "      <td>0.22</td>\n",
              "      <td>1.24</td>\n",
              "      <td>0.021</td>\n",
              "      <td>0.008</td>\n",
              "      <td>0.030</td>\n",
              "      <td>0.05</td>\n",
              "      <td>0.017</td>\n",
              "      <td>0.01</td>\n",
              "      <td>0.005</td>\n",
              "      <td>0.005</td>\n",
              "      <td>0.0116</td>\n",
              "      <td>0.0</td>\n",
              "      <td>0.0017</td>\n",
              "      <td>550</td>\n",
              "      <td>200</td>\n",
              "    </tr>\n",
              "  </tbody>\n",
              "</table>\n",
              "<p>915 rows × 16 columns</p>\n",
              "</div>\n",
              "      <button class=\"colab-df-convert\" onclick=\"convertToInteractive('df-13eace1c-9c60-46a7-b83f-2068921d4923')\"\n",
              "              title=\"Convert this dataframe to an interactive table.\"\n",
              "              style=\"display:none;\">\n",
              "        \n",
              "  <svg xmlns=\"http://www.w3.org/2000/svg\" height=\"24px\"viewBox=\"0 0 24 24\"\n",
              "       width=\"24px\">\n",
              "    <path d=\"M0 0h24v24H0V0z\" fill=\"none\"/>\n",
              "    <path d=\"M18.56 5.44l.94 2.06.94-2.06 2.06-.94-2.06-.94-.94-2.06-.94 2.06-2.06.94zm-11 1L8.5 8.5l.94-2.06 2.06-.94-2.06-.94L8.5 2.5l-.94 2.06-2.06.94zm10 10l.94 2.06.94-2.06 2.06-.94-2.06-.94-.94-2.06-.94 2.06-2.06.94z\"/><path d=\"M17.41 7.96l-1.37-1.37c-.4-.4-.92-.59-1.43-.59-.52 0-1.04.2-1.43.59L10.3 9.45l-7.72 7.72c-.78.78-.78 2.05 0 2.83L4 21.41c.39.39.9.59 1.41.59.51 0 1.02-.2 1.41-.59l7.78-7.78 2.81-2.81c.8-.78.8-2.07 0-2.86zM5.41 20L4 18.59l7.72-7.72 1.47 1.35L5.41 20z\"/>\n",
              "  </svg>\n",
              "      </button>\n",
              "      \n",
              "  <style>\n",
              "    .colab-df-container {\n",
              "      display:flex;\n",
              "      flex-wrap:wrap;\n",
              "      gap: 12px;\n",
              "    }\n",
              "\n",
              "    .colab-df-convert {\n",
              "      background-color: #E8F0FE;\n",
              "      border: none;\n",
              "      border-radius: 50%;\n",
              "      cursor: pointer;\n",
              "      display: none;\n",
              "      fill: #1967D2;\n",
              "      height: 32px;\n",
              "      padding: 0 0 0 0;\n",
              "      width: 32px;\n",
              "    }\n",
              "\n",
              "    .colab-df-convert:hover {\n",
              "      background-color: #E2EBFA;\n",
              "      box-shadow: 0px 1px 2px rgba(60, 64, 67, 0.3), 0px 1px 3px 1px rgba(60, 64, 67, 0.15);\n",
              "      fill: #174EA6;\n",
              "    }\n",
              "\n",
              "    [theme=dark] .colab-df-convert {\n",
              "      background-color: #3B4455;\n",
              "      fill: #D2E3FC;\n",
              "    }\n",
              "\n",
              "    [theme=dark] .colab-df-convert:hover {\n",
              "      background-color: #434B5C;\n",
              "      box-shadow: 0px 1px 3px 1px rgba(0, 0, 0, 0.15);\n",
              "      filter: drop-shadow(0px 1px 2px rgba(0, 0, 0, 0.3));\n",
              "      fill: #FFFFFF;\n",
              "    }\n",
              "  </style>\n",
              "\n",
              "      <script>\n",
              "        const buttonEl =\n",
              "          document.querySelector('#df-13eace1c-9c60-46a7-b83f-2068921d4923 button.colab-df-convert');\n",
              "        buttonEl.style.display =\n",
              "          google.colab.kernel.accessAllowed ? 'block' : 'none';\n",
              "\n",
              "        async function convertToInteractive(key) {\n",
              "          const element = document.querySelector('#df-13eace1c-9c60-46a7-b83f-2068921d4923');\n",
              "          const dataTable =\n",
              "            await google.colab.kernel.invokeFunction('convertToInteractive',\n",
              "                                                     [key], {});\n",
              "          if (!dataTable) return;\n",
              "\n",
              "          const docLinkHtml = 'Like what you see? Visit the ' +\n",
              "            '<a target=\"_blank\" href=https://colab.research.google.com/notebooks/data_table.ipynb>data table notebook</a>'\n",
              "            + ' to learn more about interactive tables.';\n",
              "          element.innerHTML = '';\n",
              "          dataTable['output_type'] = 'display_data';\n",
              "          await google.colab.output.renderOutput(dataTable, element);\n",
              "          const docLink = document.createElement('div');\n",
              "          docLink.innerHTML = docLinkHtml;\n",
              "          element.appendChild(docLink);\n",
              "        }\n",
              "      </script>\n",
              "    </div>\n",
              "  </div>\n",
              "  "
            ],
            "text/plain": [
              "        C    Si    Mn      P      S     Ni    Cr     Mo    Cu      V     Al  \\\n",
              "0    0.12  0.36  0.52  0.009  0.003  0.089  0.97  0.610  0.04  0.000  0.003   \n",
              "1    0.12  0.36  0.52  0.009  0.003  0.089  0.97  0.610  0.04  0.000  0.003   \n",
              "2    0.12  0.36  0.52  0.009  0.003  0.089  0.97  0.610  0.04  0.000  0.003   \n",
              "3    0.12  0.36  0.52  0.009  0.003  0.089  0.97  0.610  0.04  0.000  0.003   \n",
              "4    0.12  0.36  0.52  0.009  0.003  0.089  0.97  0.610  0.04  0.000  0.003   \n",
              "..    ...   ...   ...    ...    ...    ...   ...    ...   ...    ...    ...   \n",
              "910  0.22  0.22  1.24  0.021  0.008  0.030  0.05  0.017  0.01  0.005  0.005   \n",
              "911  0.22  0.22  1.24  0.021  0.008  0.030  0.05  0.017  0.01  0.005  0.005   \n",
              "912  0.22  0.22  1.24  0.021  0.008  0.030  0.05  0.017  0.01  0.005  0.005   \n",
              "913  0.22  0.22  1.24  0.021  0.008  0.030  0.05  0.017  0.01  0.005  0.005   \n",
              "914  0.22  0.22  1.24  0.021  0.008  0.030  0.05  0.017  0.01  0.005  0.005   \n",
              "\n",
              "          N  Ceq  Nb + Ta   Temperature (°C)  yield_strength  \n",
              "0    0.0066  0.0   0.0000                 27             342  \n",
              "1    0.0066  0.0   0.0000                100             338  \n",
              "2    0.0066  0.0   0.0000                200             337  \n",
              "3    0.0066  0.0   0.0000                300             346  \n",
              "4    0.0066  0.0   0.0000                400             316  \n",
              "..      ...  ...      ...                ...             ...  \n",
              "910  0.0116  0.0   0.0017                350             268  \n",
              "911  0.0116  0.0   0.0017                400             244  \n",
              "912  0.0116  0.0   0.0017                450             224  \n",
              "913  0.0116  0.0   0.0017                500             209  \n",
              "914  0.0116  0.0   0.0017                550             200  \n",
              "\n",
              "[915 rows x 16 columns]"
            ]
          },
          "metadata": {},
          "execution_count": 174
        }
      ]
    },
    {
      "cell_type": "code",
      "source": [
        "train.select_dtypes(include=['object'])"
      ],
      "metadata": {
        "colab": {
          "base_uri": "https://localhost:8080/",
          "height": 406
        },
        "id": "PJiDV8RFuza4",
        "outputId": "65546a00-5922-4c6b-daa9-09ffeaa9a80f"
      },
      "execution_count": null,
      "outputs": [
        {
          "output_type": "execute_result",
          "data": {
            "text/html": [
              "\n",
              "  <div id=\"df-71d7dd98-79f3-4a67-8bdd-7ee74500e7aa\">\n",
              "    <div class=\"colab-df-container\">\n",
              "      <div>\n",
              "<style scoped>\n",
              "    .dataframe tbody tr th:only-of-type {\n",
              "        vertical-align: middle;\n",
              "    }\n",
              "\n",
              "    .dataframe tbody tr th {\n",
              "        vertical-align: top;\n",
              "    }\n",
              "\n",
              "    .dataframe thead th {\n",
              "        text-align: right;\n",
              "    }\n",
              "</style>\n",
              "<table border=\"1\" class=\"dataframe\">\n",
              "  <thead>\n",
              "    <tr style=\"text-align: right;\">\n",
              "      <th></th>\n",
              "    </tr>\n",
              "  </thead>\n",
              "  <tbody>\n",
              "    <tr>\n",
              "      <th>0</th>\n",
              "    </tr>\n",
              "    <tr>\n",
              "      <th>1</th>\n",
              "    </tr>\n",
              "    <tr>\n",
              "      <th>2</th>\n",
              "    </tr>\n",
              "    <tr>\n",
              "      <th>3</th>\n",
              "    </tr>\n",
              "    <tr>\n",
              "      <th>4</th>\n",
              "    </tr>\n",
              "    <tr>\n",
              "      <th>...</th>\n",
              "    </tr>\n",
              "    <tr>\n",
              "      <th>910</th>\n",
              "    </tr>\n",
              "    <tr>\n",
              "      <th>911</th>\n",
              "    </tr>\n",
              "    <tr>\n",
              "      <th>912</th>\n",
              "    </tr>\n",
              "    <tr>\n",
              "      <th>913</th>\n",
              "    </tr>\n",
              "    <tr>\n",
              "      <th>914</th>\n",
              "    </tr>\n",
              "  </tbody>\n",
              "</table>\n",
              "<p>915 rows × 0 columns</p>\n",
              "</div>\n",
              "      <button class=\"colab-df-convert\" onclick=\"convertToInteractive('df-71d7dd98-79f3-4a67-8bdd-7ee74500e7aa')\"\n",
              "              title=\"Convert this dataframe to an interactive table.\"\n",
              "              style=\"display:none;\">\n",
              "        \n",
              "  <svg xmlns=\"http://www.w3.org/2000/svg\" height=\"24px\"viewBox=\"0 0 24 24\"\n",
              "       width=\"24px\">\n",
              "    <path d=\"M0 0h24v24H0V0z\" fill=\"none\"/>\n",
              "    <path d=\"M18.56 5.44l.94 2.06.94-2.06 2.06-.94-2.06-.94-.94-2.06-.94 2.06-2.06.94zm-11 1L8.5 8.5l.94-2.06 2.06-.94-2.06-.94L8.5 2.5l-.94 2.06-2.06.94zm10 10l.94 2.06.94-2.06 2.06-.94-2.06-.94-.94-2.06-.94 2.06-2.06.94z\"/><path d=\"M17.41 7.96l-1.37-1.37c-.4-.4-.92-.59-1.43-.59-.52 0-1.04.2-1.43.59L10.3 9.45l-7.72 7.72c-.78.78-.78 2.05 0 2.83L4 21.41c.39.39.9.59 1.41.59.51 0 1.02-.2 1.41-.59l7.78-7.78 2.81-2.81c.8-.78.8-2.07 0-2.86zM5.41 20L4 18.59l7.72-7.72 1.47 1.35L5.41 20z\"/>\n",
              "  </svg>\n",
              "      </button>\n",
              "      \n",
              "  <style>\n",
              "    .colab-df-container {\n",
              "      display:flex;\n",
              "      flex-wrap:wrap;\n",
              "      gap: 12px;\n",
              "    }\n",
              "\n",
              "    .colab-df-convert {\n",
              "      background-color: #E8F0FE;\n",
              "      border: none;\n",
              "      border-radius: 50%;\n",
              "      cursor: pointer;\n",
              "      display: none;\n",
              "      fill: #1967D2;\n",
              "      height: 32px;\n",
              "      padding: 0 0 0 0;\n",
              "      width: 32px;\n",
              "    }\n",
              "\n",
              "    .colab-df-convert:hover {\n",
              "      background-color: #E2EBFA;\n",
              "      box-shadow: 0px 1px 2px rgba(60, 64, 67, 0.3), 0px 1px 3px 1px rgba(60, 64, 67, 0.15);\n",
              "      fill: #174EA6;\n",
              "    }\n",
              "\n",
              "    [theme=dark] .colab-df-convert {\n",
              "      background-color: #3B4455;\n",
              "      fill: #D2E3FC;\n",
              "    }\n",
              "\n",
              "    [theme=dark] .colab-df-convert:hover {\n",
              "      background-color: #434B5C;\n",
              "      box-shadow: 0px 1px 3px 1px rgba(0, 0, 0, 0.15);\n",
              "      filter: drop-shadow(0px 1px 2px rgba(0, 0, 0, 0.3));\n",
              "      fill: #FFFFFF;\n",
              "    }\n",
              "  </style>\n",
              "\n",
              "      <script>\n",
              "        const buttonEl =\n",
              "          document.querySelector('#df-71d7dd98-79f3-4a67-8bdd-7ee74500e7aa button.colab-df-convert');\n",
              "        buttonEl.style.display =\n",
              "          google.colab.kernel.accessAllowed ? 'block' : 'none';\n",
              "\n",
              "        async function convertToInteractive(key) {\n",
              "          const element = document.querySelector('#df-71d7dd98-79f3-4a67-8bdd-7ee74500e7aa');\n",
              "          const dataTable =\n",
              "            await google.colab.kernel.invokeFunction('convertToInteractive',\n",
              "                                                     [key], {});\n",
              "          if (!dataTable) return;\n",
              "\n",
              "          const docLinkHtml = 'Like what you see? Visit the ' +\n",
              "            '<a target=\"_blank\" href=https://colab.research.google.com/notebooks/data_table.ipynb>data table notebook</a>'\n",
              "            + ' to learn more about interactive tables.';\n",
              "          element.innerHTML = '';\n",
              "          dataTable['output_type'] = 'display_data';\n",
              "          await google.colab.output.renderOutput(dataTable, element);\n",
              "          const docLink = document.createElement('div');\n",
              "          docLink.innerHTML = docLinkHtml;\n",
              "          element.appendChild(docLink);\n",
              "        }\n",
              "      </script>\n",
              "    </div>\n",
              "  </div>\n",
              "  "
            ],
            "text/plain": [
              "Empty DataFrame\n",
              "Columns: []\n",
              "Index: [0, 1, 2, 3, 4, 5, 6, 7, 8, 9, 10, 11, 12, 13, 14, 15, 16, 17, 18, 19, 20, 21, 22, 23, 24, 25, 26, 27, 28, 29, 30, 31, 32, 33, 34, 35, 36, 37, 38, 39, 40, 41, 42, 43, 44, 45, 46, 47, 48, 49, 50, 51, 52, 53, 54, 55, 56, 57, 58, 59, 60, 61, 62, 63, 64, 65, 66, 67, 68, 69, 70, 71, 72, 73, 74, 75, 76, 77, 78, 79, 80, 81, 82, 83, 84, 85, 86, 87, 88, 89, 90, 91, 92, 93, 94, 95, 96, 97, 98, 99, ...]\n",
              "\n",
              "[915 rows x 0 columns]"
            ]
          },
          "metadata": {},
          "execution_count": 175
        }
      ]
    },
    {
      "cell_type": "code",
      "source": [
        "categorical=len(train.select_dtypes(include=['object']).columns)\n",
        "numbers=len(train.select_dtypes(include=['float64','int64']).columns)\n",
        "print(\"Total number of Categorical Data is:\",categorical)\n",
        "print(\"Total number of Numerical Data is:\",numbers)\n",
        "print(\"Total Features are:\",categorical+numbers)"
      ],
      "metadata": {
        "colab": {
          "base_uri": "https://localhost:8080/"
        },
        "id": "EqHu1_H2u41Z",
        "outputId": "4fc9437f-7bef-4bb9-d667-cc2a9592451d"
      },
      "execution_count": null,
      "outputs": [
        {
          "output_type": "stream",
          "name": "stdout",
          "text": [
            "Total number of Categorical Data is: 0\n",
            "Total number of Numerical Data is: 16\n",
            "Total Features are: 16\n"
          ]
        }
      ]
    },
    {
      "cell_type": "code",
      "source": [
        "corrmat=train.corr()\n",
        "f, ax = plt.subplots(figsize=(12, 9))\n",
        "sns.heatmap(corrmat, vmax=.8, square=True);"
      ],
      "metadata": {
        "colab": {
          "base_uri": "https://localhost:8080/",
          "height": 658
        },
        "id": "ZmYpeEtZu8yK",
        "outputId": "81df51be-d497-4547-a9cb-f6aaefb556b1"
      },
      "execution_count": null,
      "outputs": [
        {
          "output_type": "display_data",
          "data": {
            "image/png": "[encoded data removed]",
            "text/plain": [
              "<Figure size 864x648 with 2 Axes>"
            ]
          },
          "metadata": {}
        }
      ]
    },
    {
      "cell_type": "code",
      "source": [
        "k = 10 #number of variables for heatmap\n",
        "c = corrmat.nlargest(k, 'yield_strength')['yield_strength'].index\n",
        "cm = np.corrcoef(train[c].values.T)\n",
        "sns.set(font_scale=1.25)\n",
        "hm = sns.heatmap(cm, cbar=True, annot=True, square=True, fmt='.2f', annot_kws={'size': 10}, yticklabels=c.values, xticklabels=c.values)\n",
        "plt.show()"
      ],
      "metadata": {
        "colab": {
          "base_uri": "https://localhost:8080/",
          "height": 361
        },
        "id": "bBKS0RD0vDG3",
        "outputId": "17b9c250-6f25-4554-c200-4d9a2fa8e803"
      },
      "execution_count": null,
      "outputs": [
        {
          "output_type": "display_data",
          "data": {
            "image/png": "[encoded data removed]",
            "text/plain": [
              "<Figure size 432x288 with 2 Axes>"
            ]
          },
          "metadata": {}
        }
      ]
    },
    {
      "cell_type": "code",
      "source": [
        "y_train.shape\n",
        "y.shape"
      ],
      "metadata": {
        "colab": {
          "base_uri": "https://localhost:8080/"
        },
        "id": "YcCQB3Xr6_bD",
        "outputId": "389bb1dd-e12e-4e85-d02c-97ab275f91fb"
      },
      "execution_count": null,
      "outputs": [
        {
          "output_type": "execute_result",
          "data": {
            "text/plain": [
              "(915,)"
            ]
          },
          "metadata": {},
          "execution_count": 179
        }
      ]
    },
    {
      "cell_type": "code",
      "source": [
        "x_train=train.values\n",
        "# x_test=test.values\n",
        "from sklearn.model_selection import train_test_split \n",
        "\n",
        "x_train, x_test, y_train, y_test = train_test_split(x_train, y_train, test_size=0.2, random_state=0) \n"
      ],
      "metadata": {
        "id": "ekOdV_JsvMSo"
      },
      "execution_count": null,
      "outputs": []
    },
    {
      "cell_type": "code",
      "source": [
        "from sklearn import preprocessing\n",
        "from sklearn.model_selection import KFold, GridSearchCV\n",
        "from sklearn.metrics import r2_score, mean_squared_error, mean_absolute_error\n",
        "from sklearn.pipeline import make_pipeline\n",
        "from sklearn.preprocessing import RobustScaler\n",
        "\n",
        "import lightgbm as lgbm\n",
        "\n",
        "\n",
        "import warnings\n",
        "warnings.filterwarnings(action='ignore')"
      ],
      "metadata": {
        "id": "D6fg_mVdvmQZ"
      },
      "execution_count": null,
      "outputs": []
    },
    {
      "cell_type": "code",
      "source": [
        "kfold = KFold(n_splits=10, random_state = 77, shuffle = True)"
      ],
      "metadata": {
        "id": "OZRdIhO1vp6D"
      },
      "execution_count": null,
      "outputs": []
    },
    {
      "cell_type": "code",
      "source": [
        "# LightGBM Grid Search\n",
        "params = {\n",
        "    'task' : 'train',\n",
        "    'objective' : 'regression',\n",
        "    'subsample' : 0.8,\n",
        "    'max_depth' : 7\n",
        "}\n",
        "\n",
        "param_grid = {\n",
        "    'learning_rate': [0.1],\n",
        "    'feature_fraction' : [0.5, 0.8],\n",
        "    'num_leaves':[31, 63, 127]\n",
        "}\n",
        "\n",
        "lgbm_model = lgbm.LGBMRegressor(**params, verbose=-1)\n",
        "\n",
        "lgbm_grid  = GridSearchCV(lgbm_model, \n",
        "                          param_grid, \n",
        "                          cv=kfold, \n",
        "                          scoring='neg_mean_squared_error', \n",
        "                          return_train_score=True)\n",
        "\n",
        "lgbm_grid.fit(x_train, y_train)\n",
        "\n",
        "r2_score(lgbm_grid.predict(x_train), y_train)\n",
        "\n",
        "lgbm_model.fit(x_train,y_train)"
      ],
      "metadata": {
        "colab": {
          "base_uri": "https://localhost:8080/"
        },
        "id": "w335fL9Vvr2D",
        "outputId": "453b99b2-c291-46de-f399-0d1c7a9c0e03"
      },
      "execution_count": null,
      "outputs": [
        {
          "output_type": "execute_result",
          "data": {
            "text/plain": [
              "LGBMRegressor(max_depth=7, objective='regression', subsample=0.8, task='train',\n",
              "              verbose=-1)"
            ]
          },
          "metadata": {},
          "execution_count": 183
        }
      ]
    },
    {
      "cell_type": "code",
      "source": [
        "y_test_pred=lgbm_model.predict(x_test)"
      ],
      "metadata": {
        "id": "H41ehFwnv3j6"
      },
      "execution_count": null,
      "outputs": []
    },
    {
      "cell_type": "code",
      "source": [
        "r2_LGBM = r2_score(y_test, y_test_pred)\n",
        "mse_LGBM = mean_squared_error(y_test, y_test_pred)\n",
        "mae_LGBM = mean_absolute_error(y_test, y_test_pred)"
      ],
      "metadata": {
        "id": "SSjlI9_9xVa-"
      },
      "execution_count": null,
      "outputs": []
    },
    {
      "cell_type": "code",
      "source": [
        "print(\"Accuracy\")\n",
        "print(1-mae_LGBM/np.mean(y_test))\n",
        "mse_scaled_LGBM = mse_LGBM/np.mean(y_test)\n",
        "mae_scaled_LGBM = mae_LGBM/np.mean(y_test)"
      ],
      "metadata": {
        "colab": {
          "base_uri": "https://localhost:8080/"
        },
        "id": "gh-vD1aT7uuC",
        "outputId": "865efcb1-f9b3-4e1f-aecb-92d5fa59072d"
      },
      "execution_count": null,
      "outputs": [
        {
          "output_type": "stream",
          "name": "stdout",
          "text": [
            "Accuracy\n",
            "0.9955436867470632\n"
          ]
        }
      ]
    },
    {
      "cell_type": "code",
      "source": [
        "\n",
        "print('R\\u00b2_score = ' + str(r2_LGBM) + ' Higher is better')\n",
        "print('mean_squared_error = ' + str((mse_scaled_LGBM, 2)) + '    Lower is better')\n",
        "print('mean_absolute_error = ' + str((mae_scaled_LGBM, 2)) + '   Lower is better')"
      ],
      "metadata": {
        "colab": {
          "base_uri": "https://localhost:8080/"
        },
        "id": "kwkwPbWrz_py",
        "outputId": "7627ca52-3ae3-4d2d-dd61-133fce0e9d32"
      },
      "execution_count": null,
      "outputs": [
        {
          "output_type": "stream",
          "name": "stdout",
          "text": [
            "R²_score = 0.9990141037152802 Higher is better\n",
            "mean_squared_error = (0.048179502307770385, 2)    Lower is better\n",
            "mean_absolute_error = (0.004456313252936851, 2)   Lower is better\n"
          ]
        }
      ]
    },
    {
      "cell_type": "code",
      "source": [
        "import numpy as np\n",
        "import matplotlib.pyplot as plt\n",
        "# Plotting graphs for 0.2% Proof Strength and Tensile Strength\n",
        "fig, (ax0) = plt.subplots(1,figsize=(8,7))\n",
        "\n",
        "ax0.scatter(y_test_pred, y_test, color = 'hotpink', s=18)\n",
        "x3 = np.linspace(0, 800, 1000)\n",
        "y3 = x3\n",
        "ax0.plot(x3, y3)\n",
        "ax0.set_title('0.2% Proof Strength', fontsize = 20)\n",
        "ax0.set_xlabel('predicted_yield_strength', fontsize = 14)\n",
        "ax0.set_ylabel('actual_yield_strength', fontsize = 14)\n",
        "\n",
        "# ax1.scatter(nn_predicted_tensile_strength, actual_tensile_strength, color = 'hotpink', s=18)\n",
        "# x4 = np.linspace(100, 900, 1000)\n",
        "# y4 = x4\n",
        "# ax1.plot(x4, y4)\n",
        "# ax1.set_title('Tensile Strength', fontsize = 20)\n",
        "# ax1.set_xlabel('predicted_tensile_strength', fontsize = 14)\n",
        "# ax1.set_ylabel('actual_tensile_strength', fontsize = 14)\n",
        "\n",
        "plt.show()"
      ],
      "metadata": {
        "colab": {
          "base_uri": "https://localhost:8080/",
          "height": 474
        },
        "id": "ZWdPfnXa-MXf",
        "outputId": "ecc0a8ae-39fb-438e-d6a9-234d011cb17e"
      },
      "execution_count": null,
      "outputs": [
        {
          "output_type": "display_data",
          "data": {
            "image/png": "[encoded data removed]",
            "text/plain": [
              "<Figure size 576x504 with 1 Axes>"
            ]
          },
          "metadata": {}
        }
      ]
    },
    {
      "cell_type": "code",
      "source": [
        ""
      ],
      "metadata": {
        "id": "cD8V7yH-Os2k"
      },
      "execution_count": null,
      "outputs": []
    }
  ]
}